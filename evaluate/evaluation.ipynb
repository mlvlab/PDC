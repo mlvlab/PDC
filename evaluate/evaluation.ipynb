{
 "cells": [
  {
   "cell_type": "markdown",
   "id": "869e13f7-7974-46cf-8561-da4871680a08",
   "metadata": {},
   "source": [
    "## Evaluation code\n",
    "Note that user should modify the code (deformed coordinates extraction part) to their own setting.\n",
    "\n",
    "We provide example dataset to run evaluation.\n"
   ]
  },
  {
   "cell_type": "code",
   "execution_count": 1,
   "id": "05fd7756-08b8-4707-9cf4-68bedfa57489",
   "metadata": {
    "tags": []
   },
   "outputs": [],
   "source": [
    "import os\n",
    "import torch\n",
    "import numpy as np\n",
    "\n",
    "os.environ[\"CUDA_VISIBLE_DEVICES\"]= '7'"
   ]
  },
  {
   "cell_type": "markdown",
   "id": "65a3db52-2d4e-46d3-a5c3-a784bef6cad2",
   "metadata": {},
   "source": [
    "## 1. Save deformed coordinates (and labels)"
   ]
  },
  {
   "cell_type": "code",
   "execution_count": null,
   "id": "4ec3d07a-5a14-4d2a-badb-3c13f047c9ff",
   "metadata": {},
   "outputs": [],
   "source": [
    "eval_type = 'kp'\n",
    "category = 'chair'\n",
    "spath = 'your path to data split (train split for evaluation)'\n",
    "radius = 1.03 # bbox diagonal line for 3D shape\n",
    "# this depends on how you preprocess the dataset. we use 1.03 for our model and 1.0 for baselines\n",
    "dpath = 'your path to dataset'\n",
    "\n",
    "\n",
    "with open(spath,'r') as file:\n",
    "    all_names = file.read().split('\\n')"
   ]
  },
  {
   "cell_type": "code",
   "execution_count": null,
   "id": "8135d06d-286b-440a-a3c0-fd301a03feb7",
   "metadata": {},
   "outputs": [],
   "source": [
    "\"\"\"\n",
    "load evaluation dataset (ex. part label, keypoint, ...)\n",
    "evaluate with train_split (unsupervised, surrogate tasks for shape correspondence)\n",
    "\"\"\"\n",
    "\n",
    "from eval_dataset import PartDataset, KeyPointDataset\n",
    "\n",
    "if eval_type == 'kp':\n",
    "    dataset = KeyPointDataset(category=category, split_path=spath, data_root=dpath, normalize_pc_max=1.03)\n",
    "elif eval_type == 'partlabel':\n",
    "    dataset = PartDataset(category=category, split_path=spath, data_root=dpath, normalize_pc_max=1.03)"
   ]
  },
  {
   "cell_type": "code",
   "execution_count": null,
   "id": "826c088c-906a-44ae-b56e-dd77ebd78ac9",
   "metadata": {},
   "outputs": [],
   "source": [
    "\"\"\"\n",
    "extract deformed coords with dataset (example: kp dataset)\n",
    "note that for part label task, we use 2 part labels for table category.\n",
    "i.e., label[np.where(label == 49)[0]] = 48\n",
    "\"\"\"\n",
    "\n",
    "for i, data in enumerate(dataset):\n",
    "    coords = torch.from_numpy(data[0]).unsqueeze(0).cuda()\n",
    "    label = data[1]\n",
    "    name = data[2]\n",
    "    \n",
    "    ### get latent & embedding ###\n",
    "    instance_idx = split_models.index(name)\n",
    "    sidx = torch.Tensor([instance_idx]).squeeze().long().cuda()[None,...]  \n",
    "    embed = model.shape_latent_code(sidx)\n",
    "    \n",
    "    with torch.no_grad():\n",
    "        latent_z = E(coords)\n",
    "    deformed_pts = model.get_template_coords(coords, latent_z, embed, f)\n",
    "    \n",
    "    save_file = torch.cat([coords.squeeze(0).detach().cpu(), deformed_pts.squeeze(0).detach().cpu()], dim=1)\n",
    "    folder_dir = os.path.join(save_folder, name)\n",
    "    \n",
    "    if not os.path.isdir(folder_dir):\n",
    "        os.makedirs(folder_dir)\n",
    "\n",
    "    save_path = os.path.join(folder_dir, 'coords.pt')\n",
    "    torch.save(save_file,save_path) ## coords\n",
    "    torch.save(torch.from_numpy(label), os.path.join(folder_dir, 'kp_label.pt'))\n",
    "    torch.save(embed.detach().cpu(), os.path.join(folder_dir, 'latent.pt'))\n",
    "    "
   ]
  },
  {
   "cell_type": "markdown",
   "id": "379fd643-b569-4285-9c85-ddeb68a16ec7",
   "metadata": {},
   "source": [
    "## 2. Evaluation(1): keypoint transfer"
   ]
  },
  {
   "cell_type": "code",
   "execution_count": 3,
   "id": "8e1ccddf-8103-475f-8771-7f08efea878a",
   "metadata": {
    "tags": []
   },
   "outputs": [],
   "source": [
    "# example - chair\n",
    "src_id = ['26a5761e22185ab367d783b4714d4324','10d174a00639990492d9da2668ec34c','104256e5bb73b0b719fb4103277a6b93']\n",
    "path_kp = './examples/chair_kp'\n",
    "idlist = sorted(os.listdir(path_kp))\n",
    "tgt_id = [x for x in idlist if x not in src_id]"
   ]
  },
  {
   "cell_type": "code",
   "execution_count": 4,
   "id": "649b4359-4567-4bcb-87e8-18ad600777ce",
   "metadata": {
    "tags": []
   },
   "outputs": [
    {
     "name": "stdout",
     "output_type": "stream",
     "text": [
      "(97, 21, 3)\n",
      "(97, 21, 3)\n"
     ]
    }
   ],
   "source": [
    "from utils_eval import get_center_keypoints, get_deformed_points\n",
    "\n",
    "kp_T = get_center_keypoints(path_kp,src_id)\n",
    "    \n",
    "tgt_o, tgt_d, tgt_gt_kp, tgt_name = get_deformed_points(path_kp,tgt_id)\n",
    "\n",
    "tgt_o = np.stack(tgt_o)\n",
    "tgt_d = np.stack(tgt_d)\n",
    "tgt_gt_kp = np.stack(tgt_gt_kp)\n",
    "\n",
    "distances = torch.sqrt(torch.sum((torch.from_numpy(tgt_d[:,None,:,:]).cuda() - torch.from_numpy(kp_T[None,:,None,:]).cuda()) ** 2, dim=-1)).detach().cpu().numpy()\n",
    "pred_kp = np.argmin(distances,axis=-1)\n",
    "\n",
    "pred_kp_pts = []\n",
    "gt_kp_pts = []\n",
    "distance_new = []\n",
    "for b in range(pred_kp.shape[0]):\n",
    "    pred_kp_pts.append(tgt_o[b][pred_kp[b]])\n",
    "    gt_kp_pts.append(tgt_o[b][tgt_gt_kp[b]])\n",
    "pred_kp_pts = np.stack(pred_kp_pts)\n",
    "gt_kp_pts = np.stack(gt_kp_pts)\n",
    "\n",
    "print(pred_kp_pts.shape)\n",
    "print(gt_kp_pts.shape)"
   ]
  },
  {
   "cell_type": "code",
   "execution_count": 5,
   "id": "4e703f9b-618d-4bef-a029-39ec465e0b49",
   "metadata": {
    "tags": []
   },
   "outputs": [
    {
     "name": "stdout",
     "output_type": "stream",
     "text": [
      "threshold 0.0 : 0.0\n",
      "threshold 0.01 : 0.21537761813686615\n",
      "threshold 0.02 : 0.2702900192590914\n",
      "threshold 0.03 : 0.3478045302181141\n",
      "threshold 0.04 : 0.4504962492530716\n",
      "threshold 0.05 : 0.5266289703827606\n",
      "threshold 0.06 : 0.5931201505185738\n",
      "threshold 0.07 : 0.6493973481541706\n",
      "threshold 0.08 : 0.6962829065012204\n",
      "threshold 0.09 : 0.7372290232508544\n",
      "threshold 0.1 : 0.767757237708723\n",
      "threshold 0.11 : 0.787306215110945\n",
      "threshold 0.12 : 0.8022156840531611\n",
      "threshold 0.13 : 0.8203998649420116\n",
      "threshold 0.14 : 0.8339665287209251\n",
      "threshold 0.15 : 0.8480489896196381\n",
      "threshold 0.16 : 0.854399158553191\n",
      "threshold 0.17 : 0.8605775061809019\n",
      "threshold 0.18 : 0.8669450016326907\n",
      "threshold 0.19 : 0.8728360178329855\n",
      "threshold 0.2 : 0.8847826521568181\n",
      "threshold 0.21 : 0.8942082780772895\n",
      "threshold 0.22 : 0.904959382642827\n",
      "threshold 0.23 : 0.9107031234381142\n",
      "threshold 0.24 : 0.9139431823482763\n",
      "threshold 0.25 : 0.9201287493585856\n",
      "threshold 0.26 : 0.9252833885338435\n",
      "threshold 0.27 : 0.9301434768990864\n",
      "threshold 0.28 : 0.9301434768990864\n",
      "threshold 0.29 : 0.9341199128342852\n",
      "threshold 0.3 : 0.9358872176943737\n",
      "threshold 0.31 : 0.9412064587928749\n",
      "threshold 0.32 : 0.9451828947280736\n",
      "threshold 0.33 : 0.9484229536382357\n",
      "threshold 0.34 : 0.952988491193464\n",
      "threshold 0.35000000000000003 : 0.955362224191818\n",
      "threshold 0.36 : 0.9560986012168549\n",
      "threshold 0.37 : 0.9586022831019799\n",
      "threshold 0.38 : 0.9603695879620684\n",
      "threshold 0.39 : 0.964346023897267\n",
      "threshold 0.4 : 0.9680279090224511\n",
      "threshold 0.41000000000000003 : 0.9713246123191543\n",
      "threshold 0.42 : 0.9741228450142944\n",
      "threshold 0.43 : 0.9757602009876116\n",
      "threshold 0.44 : 0.9781339339859654\n",
      "threshold 0.45 : 0.9859741834878281\n",
      "threshold 0.46 : 0.9870051113228795\n",
      "threshold 0.47000000000000003 : 0.9890669669929828\n",
      "threshold 0.48 : 0.9907043229663\n",
      "threshold 0.49 : 0.9914406999913367\n",
      "threshold 0.5 : 0.9914406999913367\n"
     ]
    }
   ],
   "source": [
    "n_data = pred_kp_pts.shape[0]\n",
    "threshold_list = [0.01 * i * 1.03 for i in range(51)]\n",
    "pcks = []\n",
    "for b in range(n_data):\n",
    "    valid_idx = [i for i in range(tgt_gt_kp.shape[1]) if tgt_gt_kp[b, i] >= 0]\n",
    "    pred = pred_kp_pts[b][valid_idx]\n",
    "    gt = gt_kp_pts[b][valid_idx]\n",
    "    dists = np.sqrt(np.sum((gt - pred)**2, axis=-1))\n",
    "    pck = np.stack([np.sum(dists < th)/len(valid_idx) for th in threshold_list])\n",
    "    pcks.append(pck)\n",
    "\n",
    "pcks= np.stack(pcks)\n",
    "res= np.mean(pcks,0)\n",
    "\n",
    "for i in range(len(res)):\n",
    "    print(\"threshold {} : {}\".format(0.01*i, res[i]))"
   ]
  },
  {
   "cell_type": "markdown",
   "id": "fc9b7cb0-3716-4d3a-9e7c-719a93b741fb",
   "metadata": {},
   "source": [
    "## 3. Evaluation(2): part label transfer"
   ]
  },
  {
   "cell_type": "code",
   "execution_count": 7,
   "id": "e48f069d-7f52-44f8-8107-ddc276bccb0c",
   "metadata": {
    "tags": []
   },
   "outputs": [],
   "source": [
    "# chair\n",
    "src_id = ['11d9817e65d7ead6b87028a4b477349f','10a1783f635b3fc181dff5c2e57ad46e','10dc303144fe5d668d1b9a1d97e2846']\n",
    "path_ptl = './examples/chair_ptl'\n",
    "idlist = sorted(os.listdir(path_ptl))\n",
    "tgt_id = [x for x in idlist if x not in src_id]"
   ]
  },
  {
   "cell_type": "code",
   "execution_count": 8,
   "id": "52244711-6cfd-450b-8804-8142b20041c4",
   "metadata": {
    "tags": []
   },
   "outputs": [
    {
     "name": "stdout",
     "output_type": "stream",
     "text": [
      "0.8297882430332223\n"
     ]
    }
   ],
   "source": [
    "import statistics as stat\n",
    "from utils_eval import part_label_transfer\n",
    "\n",
    "res = part_label_transfer(path_ptl, src_id, tgt_id, 'chair', bsize=5)\n",
    "print(stat.mean(res[-2]))"
   ]
  },
  {
   "cell_type": "code",
   "execution_count": null,
   "id": "e8138404-d300-46fb-8fca-d90f0095e934",
   "metadata": {},
   "outputs": [],
   "source": []
  }
 ],
 "metadata": {
  "kernelspec": {
   "display_name": "skim",
   "language": "python",
   "name": "skim"
  },
  "language_info": {
   "codemirror_mode": {
    "name": "ipython",
    "version": 3
   },
   "file_extension": ".py",
   "mimetype": "text/x-python",
   "name": "python",
   "nbconvert_exporter": "python",
   "pygments_lexer": "ipython3",
   "version": "3.7.16"
  }
 },
 "nbformat": 4,
 "nbformat_minor": 5
}
